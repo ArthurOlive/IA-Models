{
 "cells": [
  {
   "cell_type": "code",
   "execution_count": 1,
   "metadata": {},
   "outputs": [],
   "source": [
    "import numpy as np\n",
    "from sklearn.naive_bayes import GaussianNB\n",
    "import pandas as pd"
   ]
  },
  {
   "cell_type": "code",
   "execution_count": 2,
   "metadata": {},
   "outputs": [],
   "source": [
    "#importa o modulo do naive bayes\n",
    "nb = GaussianNB()"
   ]
  },
  {
   "cell_type": "code",
   "execution_count": 3,
   "metadata": {},
   "outputs": [],
   "source": [
    "rules = pd.read_csv(\"rules.csv\")"
   ]
  },
  {
   "cell_type": "code",
   "execution_count": 5,
   "metadata": {},
   "outputs": [
    {
     "data": {
      "text/html": [
       "<div>\n",
       "<style scoped>\n",
       "    .dataframe tbody tr th:only-of-type {\n",
       "        vertical-align: middle;\n",
       "    }\n",
       "\n",
       "    .dataframe tbody tr th {\n",
       "        vertical-align: top;\n",
       "    }\n",
       "\n",
       "    .dataframe thead th {\n",
       "        text-align: right;\n",
       "    }\n",
       "</style>\n",
       "<table border=\"1\" class=\"dataframe\">\n",
       "  <thead>\n",
       "    <tr style=\"text-align: right;\">\n",
       "      <th></th>\n",
       "      <th>Como está o tempo?</th>\n",
       "      <th>Está em qual estação?</th>\n",
       "      <th>É fim de semana ?</th>\n",
       "      <th>Meus pais estão em casa ?</th>\n",
       "      <th>Posso jogar bola</th>\n",
       "    </tr>\n",
       "  </thead>\n",
       "  <tbody>\n",
       "    <tr>\n",
       "      <th>0</th>\n",
       "      <td>sol</td>\n",
       "      <td>primavera</td>\n",
       "      <td>Sim</td>\n",
       "      <td>sim</td>\n",
       "      <td>sim</td>\n",
       "    </tr>\n",
       "    <tr>\n",
       "      <th>1</th>\n",
       "      <td>chuva</td>\n",
       "      <td>primavera</td>\n",
       "      <td>Não</td>\n",
       "      <td>não</td>\n",
       "      <td>não</td>\n",
       "    </tr>\n",
       "    <tr>\n",
       "      <th>2</th>\n",
       "      <td>nublado</td>\n",
       "      <td>primavera</td>\n",
       "      <td>Sim</td>\n",
       "      <td>sim</td>\n",
       "      <td>sim</td>\n",
       "    </tr>\n",
       "    <tr>\n",
       "      <th>3</th>\n",
       "      <td>sol</td>\n",
       "      <td>verão</td>\n",
       "      <td>Não</td>\n",
       "      <td>não</td>\n",
       "      <td>sim</td>\n",
       "    </tr>\n",
       "    <tr>\n",
       "      <th>4</th>\n",
       "      <td>chuva</td>\n",
       "      <td>verão</td>\n",
       "      <td>Sim</td>\n",
       "      <td>sim</td>\n",
       "      <td>não</td>\n",
       "    </tr>\n",
       "    <tr>\n",
       "      <th>5</th>\n",
       "      <td>nublado</td>\n",
       "      <td>verão</td>\n",
       "      <td>Não</td>\n",
       "      <td>não</td>\n",
       "      <td>não</td>\n",
       "    </tr>\n",
       "    <tr>\n",
       "      <th>6</th>\n",
       "      <td>sol</td>\n",
       "      <td>outono</td>\n",
       "      <td>Sim</td>\n",
       "      <td>sim</td>\n",
       "      <td>sim</td>\n",
       "    </tr>\n",
       "    <tr>\n",
       "      <th>7</th>\n",
       "      <td>chuva</td>\n",
       "      <td>outono</td>\n",
       "      <td>Não</td>\n",
       "      <td>não</td>\n",
       "      <td>não</td>\n",
       "    </tr>\n",
       "    <tr>\n",
       "      <th>8</th>\n",
       "      <td>nublado</td>\n",
       "      <td>outono</td>\n",
       "      <td>Sim</td>\n",
       "      <td>sim</td>\n",
       "      <td>não</td>\n",
       "    </tr>\n",
       "    <tr>\n",
       "      <th>9</th>\n",
       "      <td>sol</td>\n",
       "      <td>inverno</td>\n",
       "      <td>Não</td>\n",
       "      <td>não</td>\n",
       "      <td>não</td>\n",
       "    </tr>\n",
       "    <tr>\n",
       "      <th>10</th>\n",
       "      <td>chuva</td>\n",
       "      <td>inverno</td>\n",
       "      <td>Sim</td>\n",
       "      <td>sim</td>\n",
       "      <td>não</td>\n",
       "    </tr>\n",
       "    <tr>\n",
       "      <th>11</th>\n",
       "      <td>nublado</td>\n",
       "      <td>inverno</td>\n",
       "      <td>Não</td>\n",
       "      <td>não</td>\n",
       "      <td>não</td>\n",
       "    </tr>\n",
       "  </tbody>\n",
       "</table>\n",
       "</div>"
      ],
      "text/plain": [
       "   Como está o tempo?  Está em qual estação? É fim de semana ?  \\\n",
       "0                  sol             primavera               Sim   \n",
       "1                chuva             primavera               Não   \n",
       "2              nublado             primavera               Sim   \n",
       "3                  sol                 verão               Não   \n",
       "4                chuva                 verão               Sim   \n",
       "5              nublado                 verão               Não   \n",
       "6                  sol                outono               Sim   \n",
       "7                chuva                outono               Não   \n",
       "8              nublado                outono               Sim   \n",
       "9                  sol               inverno               Não   \n",
       "10               chuva               inverno               Sim   \n",
       "11             nublado               inverno               Não   \n",
       "\n",
       "   Meus pais estão em casa ? Posso jogar bola  \n",
       "0                        sim              sim  \n",
       "1                        não              não  \n",
       "2                        sim              sim  \n",
       "3                        não              sim  \n",
       "4                        sim              não  \n",
       "5                        não              não  \n",
       "6                        sim              sim  \n",
       "7                        não              não  \n",
       "8                        sim              não  \n",
       "9                        não              não  \n",
       "10                       sim              não  \n",
       "11                       não              não  "
      ]
     },
     "execution_count": 5,
     "metadata": {},
     "output_type": "execute_result"
    }
   ],
   "source": [
    "rules"
   ]
  },
  {
   "cell_type": "code",
   "execution_count": 6,
   "metadata": {},
   "outputs": [],
   "source": [
    "#processa a tabela e converte para numeros\n",
    "dict_mask = {}\n",
    "for j in range(len(rules.columns)):\n",
    "    dict_mask[rules.columns[j]] = []\n",
    "    keys = list(rules[rules.columns[j]].value_counts().keys())\n",
    "    for i in range(len(keys)):\n",
    "        rules[rules.columns[j]] = rules[rules.columns[j]].replace([keys[i]], i)\n",
    "        dict_mask[rules.columns[j]].append({keys[i]: i});"
   ]
  },
  {
   "cell_type": "code",
   "execution_count": 7,
   "metadata": {},
   "outputs": [
    {
     "data": {
      "text/plain": [
       "{'Como está o tempo? ': [{'sol': 0}, {'nublado': 1}, {'chuva': 2}],\n",
       " 'Está em qual estação?': [{'verão': 0},\n",
       "  {'outono': 1},\n",
       "  {'inverno': 2},\n",
       "  {'primavera': 3}],\n",
       " 'É fim de semana ?': [{'Não': 0}, {'Sim': 1}],\n",
       " 'Meus pais estão em casa ?': [{'sim': 0}, {'não': 1}],\n",
       " 'Posso jogar bola': [{'não': 0}, {'sim': 1}]}"
      ]
     },
     "execution_count": 7,
     "metadata": {},
     "output_type": "execute_result"
    }
   ],
   "source": [
    "dict_mask"
   ]
  },
  {
   "cell_type": "code",
   "execution_count": 8,
   "metadata": {},
   "outputs": [],
   "source": [
    "#monta a logica das regras\n",
    "target = rules[rules.columns[-1]].values\n",
    "values = rules[rules.columns[0:-1]].values\n",
    "tree = nb.fit(values, target)"
   ]
  },
  {
   "cell_type": "code",
   "execution_count": null,
   "metadata": {},
   "outputs": [
    {
     "name": "stdout",
     "output_type": "stream",
     "text": [
      "Como está o tempo? \n",
      "0  -  sol\n",
      "1  -  nublado\n",
      "2  -  chuva\n"
     ]
    }
   ],
   "source": [
    "#loop do questionario\n",
    "answer = []\n",
    "for i in range(len(dict_mask) - 1):\n",
    "    print(rules.columns[i])\n",
    "    for j in range(len(dict_mask[rules.columns[i]])):\n",
    "        print(list(dict_mask[rules.columns[i]][j].values())[0] ,' - ', list(dict_mask[rules.columns[i]][j].keys())[0])\n",
    "    answer.append(int(input(\"Opção: \")))\n",
    "    print('\\n')\n",
    "\n",
    "val = tree.predict([answer])\n",
    "\n",
    "print(list(dict_mask.keys())[-1] , \": \", list(dict_mask[list(dict_mask.keys())[-1]][val[0]].keys())[0])"
   ]
  },
  {
   "cell_type": "code",
   "execution_count": null,
   "metadata": {},
   "outputs": [],
   "source": []
  }
 ],
 "metadata": {
  "kernelspec": {
   "display_name": "Python 3",
   "language": "python",
   "name": "python3"
  },
  "language_info": {
   "codemirror_mode": {
    "name": "ipython",
    "version": 3
   },
   "file_extension": ".py",
   "mimetype": "text/x-python",
   "name": "python",
   "nbconvert_exporter": "python",
   "pygments_lexer": "ipython3",
   "version": "3.8.2"
  }
 },
 "nbformat": 4,
 "nbformat_minor": 4
}
