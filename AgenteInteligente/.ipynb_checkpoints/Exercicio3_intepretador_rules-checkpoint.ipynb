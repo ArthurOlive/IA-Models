{
 "cells": [
  {
   "cell_type": "code",
   "execution_count": 1,
   "metadata": {},
   "outputs": [],
   "source": [
    "import pandas as pd\n",
    "import json\n",
    "import numpy as np"
   ]
  },
  {
   "cell_type": "code",
   "execution_count": 2,
   "metadata": {},
   "outputs": [],
   "source": [
    "dados = {}\n",
    "with open('rules.txt', 'r') as rulesTxt: \n",
    "    rules = json.load(rulesTxt)\n",
    "\n",
    "with open('variables.txt', 'r') as variablesTxt: \n",
    "    variablesList = json.load(variablesTxt)    "
   ]
  },
  {
   "cell_type": "code",
   "execution_count": 3,
   "metadata": {},
   "outputs": [
    {
     "data": {
      "text/plain": [
       "['IF total da conta bancaria = > 10000 AND transporte proprio = sim AND nivel escolar = doutorado THEN cargo na empresa = gerente da empresa',\n",
       " 'IF nivel escolar = ensino medio OR idade minima = 14 anos THEN cargo na empresa = estagiario',\n",
       " 'IF casa propria = sim AND transporte proprio = sim THEN total da conta bancaria = > 10000',\n",
       " 'IF idade minima = 21 anos AND nivel escolar = ensino superior THEN cargo na empresa = junior',\n",
       " 'IF idade minima = 23 anos AND quantidade de filhos = 1 THEN casa propria = sim',\n",
       " 'IF cargo na empresa = CEO THEN total da conta bancaria = > 50000',\n",
       " 'IF idade minima = 25 anos AND transporte proprio = sim AND casa propria = sim AND nivel escolar = doutorado THEN cargo na empresa = gerente da empresa',\n",
       " 'IF nivel escolar = mestrado AND total da conta bancaria = > 5000 THEN cargo na empresa = gerente de projeto',\n",
       " 'IF transporte proprio = sim AND cargo na empresa = desenvolvedor THEN total da conta bancaria = > 2000',\n",
       " 'IF idade minima = 21 anos AND total da conta bancaria = > 1000 OR nivel escolar = ensino superior AND total da conta bancaria = > 1000 THEN cargo na empresa = desenvolvedor',\n",
       " 'IF status civil = solteiro(a) AND idade minima = 17 anos THEN cargo na empresa = estagiario',\n",
       " 'IF casa propria = sim AND status civil = casado(a) THEN quantidade de filhos = 2',\n",
       " 'IF nivel em que trabalha na empresa = 2 AND nivel escolar = ensino superior THEN cargo na empresa = desenvolvedor']"
      ]
     },
     "execution_count": 3,
     "metadata": {},
     "output_type": "execute_result"
    }
   ],
   "source": [
    "rules"
   ]
  },
  {
   "cell_type": "code",
   "execution_count": 4,
   "metadata": {},
   "outputs": [],
   "source": [
    "rulesList = rules"
   ]
  },
  {
   "cell_type": "code",
   "execution_count": 5,
   "metadata": {},
   "outputs": [
    {
     "data": {
      "text/plain": [
       "['IF total da conta bancaria = > 10000 AND transporte proprio = sim AND nivel escolar = doutorado THEN cargo na empresa = gerente da empresa',\n",
       " 'IF nivel escolar = ensino medio OR idade minima = 14 anos THEN cargo na empresa = estagiario',\n",
       " 'IF casa propria = sim AND transporte proprio = sim THEN total da conta bancaria = > 10000',\n",
       " 'IF idade minima = 21 anos AND nivel escolar = ensino superior THEN cargo na empresa = junior',\n",
       " 'IF idade minima = 23 anos AND quantidade de filhos = 1 THEN casa propria = sim',\n",
       " 'IF cargo na empresa = CEO THEN total da conta bancaria = > 50000',\n",
       " 'IF idade minima = 25 anos AND transporte proprio = sim AND casa propria = sim AND nivel escolar = doutorado THEN cargo na empresa = gerente da empresa',\n",
       " 'IF nivel escolar = mestrado AND total da conta bancaria = > 5000 THEN cargo na empresa = gerente de projeto',\n",
       " 'IF transporte proprio = sim AND cargo na empresa = desenvolvedor THEN total da conta bancaria = > 2000',\n",
       " 'IF idade minima = 21 anos AND total da conta bancaria = > 1000 OR nivel escolar = ensino superior AND total da conta bancaria = > 1000 THEN cargo na empresa = desenvolvedor',\n",
       " 'IF status civil = solteiro(a) AND idade minima = 17 anos THEN cargo na empresa = estagiario',\n",
       " 'IF casa propria = sim AND status civil = casado(a) THEN quantidade de filhos = 2',\n",
       " 'IF nivel em que trabalha na empresa = 2 AND nivel escolar = ensino superior THEN cargo na empresa = desenvolvedor']"
      ]
     },
     "execution_count": 5,
     "metadata": {},
     "output_type": "execute_result"
    }
   ],
   "source": [
    "rulesList"
   ]
  },
  {
   "cell_type": "code",
   "execution_count": 6,
   "metadata": {},
   "outputs": [],
   "source": [
    "def replaceRule(rule):\n",
    "    rule = rule.replace(\"IF \", \"\")\n",
    "    rule = rule.replace(\"AND\", \";\")\n",
    "    return rule;"
   ]
  },
  {
   "cell_type": "code",
   "execution_count": 7,
   "metadata": {},
   "outputs": [],
   "source": [
    "dictionaryRules = []\n",
    "for  i in rulesList: \n",
    "    if i.find('OR') != -1:\n",
    "        #quebra em daus siple rule\n",
    "        i = replaceRule(i)\n",
    "        compostRule = i.split(\"THEN\")\n",
    "        rulesBroken = compostRule[0].split(\"OR\")\n",
    "        target = compostRule[1].split(\"=\")\n",
    "        for x in range(len(rulesBroken)):\n",
    "            rulesBroken[x] = rulesBroken[x].split(\";\");\n",
    "            dictionaryRule = {}\n",
    "            for j in rulesBroken[x]:\n",
    "                j = j.split(\"=\")\n",
    "                dictionaryRule[j[0].strip()] = j[1].strip()\n",
    "            \n",
    "            dictionaryRule[target[0].strip()] = target[1].strip()\n",
    "            \n",
    "            dictionaryRules.append(dictionaryRule)\n",
    "\n",
    "    elif i.find('AND') != -1:\n",
    "        i = replaceRule(i)\n",
    "        i = i.replace(\"THEN\", \";\")\n",
    "        i = i.split(\";\")\n",
    "        \n",
    "        dictionaryRule = {}\n",
    "        for x in i:\n",
    "            x = x.split(\"=\")\n",
    "            dictionaryRule[x[0].strip()] = x[1].strip()\n",
    "        dictionaryRules.append(dictionaryRule)\n",
    "    else:\n",
    "        i = replaceRule(i)\n",
    "        i = i.replace(\"THEN\", \";\")\n",
    "        i = i.split(\";\")\n",
    "        dictionaryRule = {}\n",
    "        for x in i:\n",
    "            #print(x)\n",
    "            x = x.split(\"=\")\n",
    "            #print(x)\n",
    "            dictionaryRule[x[0].strip()] = x[1].strip()\n",
    "        dictionaryRules.append(dictionaryRule)"
   ]
  },
  {
   "cell_type": "code",
   "execution_count": 8,
   "metadata": {},
   "outputs": [
    {
     "data": {
      "text/plain": [
       "[{'total da conta bancaria': '',\n",
       "  'transporte proprio': 'sim',\n",
       "  'nivel escolar': 'doutorado',\n",
       "  'cargo na empresa': 'gerente da empresa'},\n",
       " {'nivel escolar': 'ensino medio', 'cargo na empresa': 'estagiario'},\n",
       " {'idade minima': '14 anos', 'cargo na empresa': 'estagiario'},\n",
       " {'casa propria': 'sim',\n",
       "  'transporte proprio': 'sim',\n",
       "  'total da conta bancaria': ''},\n",
       " {'idade minima': '21 anos',\n",
       "  'nivel escolar': 'ensino superior',\n",
       "  'cargo na empresa': 'junior'},\n",
       " {'idade minima': '23 anos',\n",
       "  'quantidade de filhos': '1',\n",
       "  'casa propria': 'sim'},\n",
       " {'cargo na empresa': 'CEO', 'total da conta bancaria': ''},\n",
       " {'idade minima': '25 anos',\n",
       "  'transporte proprio': 'sim',\n",
       "  'casa propria': 'sim',\n",
       "  'nivel escolar': 'doutorado',\n",
       "  'cargo na empresa': 'gerente da empresa'},\n",
       " {'nivel escolar': 'mestrado',\n",
       "  'total da conta bancaria': '',\n",
       "  'cargo na empresa': 'gerente de projeto'},\n",
       " {'transporte proprio': 'sim',\n",
       "  'cargo na empresa': 'desenvolvedor',\n",
       "  'total da conta bancaria': ''},\n",
       " {'idade minima': '21 anos',\n",
       "  'total da conta bancaria': '',\n",
       "  'cargo na empresa': 'desenvolvedor'},\n",
       " {'nivel escolar': 'ensino superior',\n",
       "  'total da conta bancaria': '',\n",
       "  'cargo na empresa': 'desenvolvedor'},\n",
       " {'status civil': 'solteiro(a)',\n",
       "  'idade minima': '17 anos',\n",
       "  'cargo na empresa': 'estagiario'},\n",
       " {'casa propria': 'sim',\n",
       "  'status civil': 'casado(a)',\n",
       "  'quantidade de filhos': '2'},\n",
       " {'nivel em que trabalha na empresa': '2',\n",
       "  'nivel escolar': 'ensino superior',\n",
       "  'cargo na empresa': 'desenvolvedor'}]"
      ]
     },
     "execution_count": 8,
     "metadata": {},
     "output_type": "execute_result"
    }
   ],
   "source": [
    "dictionaryRules"
   ]
  },
  {
   "cell_type": "code",
   "execution_count": 23,
   "metadata": {},
   "outputs": [
    {
     "data": {
      "text/plain": [
       "['NUM']"
      ]
     },
     "execution_count": 23,
     "metadata": {},
     "output_type": "execute_result"
    }
   ],
   "source": [
    "variablesList['distancia']"
   ]
  },
  {
   "cell_type": "code",
   "execution_count": 321,
   "metadata": {},
   "outputs": [
    {
     "name": "stdout",
     "output_type": "stream",
     "text": [
      "lista de variaveis do sistema: \n",
      "\n",
      "\t 0  -  previsao do tempo\n",
      "\t 1  -  chovendo\n",
      "\t 2  -  assistiu programa de meteorologia\n",
      "\t 3  -  praias vazias\n",
      "\t 4  -  local de passeio\n",
      "\t 5  -  distancia\n",
      "\t 6  -  condicao fisica\n",
      "\t 7  -  transporte\n",
      "\t 8  -  jogou bola\n",
      "\t 9  -  amigos ligaram\n",
      "\t 10  -  Fez exercicios\n",
      "Digite o nome da variavel que deseja predizer: condicao fisica\n"
     ]
    }
   ],
   "source": [
    "print(\"lista de variaveis do sistema: \\n\")\n",
    "count = 0\n",
    "for i in variablesList:\n",
    "    print(\"\\t\", count , \" - \" , i)\n",
    "    count += 1\n",
    "predicao = input(\"Digite o nome da variavel que deseja predizer: \")\n",
    "\n",
    "useRule = []\n",
    "for i in dictionaryRules:\n",
    "    if (list(i.keys())[-1] == predicao):\n",
    "        useRule.append(i)\n",
    "\n",
    "if len(useRule) == 0:\n",
    "    print(\"Não possui regras para predição dessa variavel\")"
   ]
  },
  {
   "cell_type": "code",
   "execution_count": 353,
   "metadata": {},
   "outputs": [
    {
     "data": {
      "text/plain": [
       "[{'jogou bola': 'sim', 'condicao fisica': 'ruim'},\n",
       " {'jogou bola': 'sim', 'condicao fisica': 'ruim'},\n",
       " {'transporte': 'a pe', 'distancia': '> 5', 'condicao fisica': 'ruim'},\n",
       " {'local de passeio': 'cachoeira', 'condicao fisica': 'ruim'}]"
      ]
     },
     "execution_count": 353,
     "metadata": {},
     "output_type": "execute_result"
    }
   ],
   "source": [
    "#So irá funcionar aqui se useRules não for vazio\n",
    "useRule"
   ]
  },
  {
   "cell_type": "code",
   "execution_count": 354,
   "metadata": {},
   "outputs": [],
   "source": [
    "rules = pd.DataFrame(useRule)"
   ]
  },
  {
   "cell_type": "code",
   "execution_count": 355,
   "metadata": {},
   "outputs": [],
   "source": [
    "#coloca -1 nos valores nulos\n",
    "rules = rules.fillna(-1)"
   ]
  },
  {
   "cell_type": "code",
   "execution_count": 356,
   "metadata": {},
   "outputs": [
    {
     "data": {
      "text/html": [
       "<div>\n",
       "<style scoped>\n",
       "    .dataframe tbody tr th:only-of-type {\n",
       "        vertical-align: middle;\n",
       "    }\n",
       "\n",
       "    .dataframe tbody tr th {\n",
       "        vertical-align: top;\n",
       "    }\n",
       "\n",
       "    .dataframe thead th {\n",
       "        text-align: right;\n",
       "    }\n",
       "</style>\n",
       "<table border=\"1\" class=\"dataframe\">\n",
       "  <thead>\n",
       "    <tr style=\"text-align: right;\">\n",
       "      <th></th>\n",
       "      <th>jogou bola</th>\n",
       "      <th>condicao fisica</th>\n",
       "      <th>transporte</th>\n",
       "      <th>distancia</th>\n",
       "      <th>local de passeio</th>\n",
       "    </tr>\n",
       "  </thead>\n",
       "  <tbody>\n",
       "    <tr>\n",
       "      <th>0</th>\n",
       "      <td>sim</td>\n",
       "      <td>ruim</td>\n",
       "      <td>-1</td>\n",
       "      <td>-1</td>\n",
       "      <td>-1</td>\n",
       "    </tr>\n",
       "    <tr>\n",
       "      <th>1</th>\n",
       "      <td>sim</td>\n",
       "      <td>ruim</td>\n",
       "      <td>-1</td>\n",
       "      <td>-1</td>\n",
       "      <td>-1</td>\n",
       "    </tr>\n",
       "    <tr>\n",
       "      <th>2</th>\n",
       "      <td>-1</td>\n",
       "      <td>ruim</td>\n",
       "      <td>a pe</td>\n",
       "      <td>&gt; 5</td>\n",
       "      <td>-1</td>\n",
       "    </tr>\n",
       "    <tr>\n",
       "      <th>3</th>\n",
       "      <td>-1</td>\n",
       "      <td>ruim</td>\n",
       "      <td>-1</td>\n",
       "      <td>-1</td>\n",
       "      <td>cachoeira</td>\n",
       "    </tr>\n",
       "  </tbody>\n",
       "</table>\n",
       "</div>"
      ],
      "text/plain": [
       "  jogou bola condicao fisica transporte distancia local de passeio\n",
       "0        sim            ruim         -1        -1               -1\n",
       "1        sim            ruim         -1        -1               -1\n",
       "2         -1            ruim       a pe       > 5               -1\n",
       "3         -1            ruim         -1        -1        cachoeira"
      ]
     },
     "execution_count": 356,
     "metadata": {},
     "output_type": "execute_result"
    }
   ],
   "source": [
    "rules"
   ]
  },
  {
   "cell_type": "code",
   "execution_count": 357,
   "metadata": {},
   "outputs": [],
   "source": [
    "#processa a tabela e converte para numeros\n",
    "dict_mask = {}\n",
    "for j in range(len(rules.columns)):\n",
    "    dict_mask[rules.columns[j]] = [{'Nenhuma das opções' : -1}]\n",
    "    keys = list(rules[rules.columns[j]].value_counts().keys())\n",
    "    for i in range(len(keys)):\n",
    "        if(keys[i] != -1):\n",
    "            if (variablesList[rules.columns[j]][0] == 'NUM'):\n",
    "                rules[rules.columns[j]] = rules[rules.columns[j]].replace([keys[i]], i)\n",
    "                dict_mask[rules.columns[j]].append({keys[i]: i})\n",
    "            else:\n",
    "                rules[rules.columns[j]] = rules[rules.columns[j]].replace([keys[i]], variablesList[rules.columns[j]].index(keys[i]))\n",
    "    \n",
    "    if (variablesList[rules.columns[j]][0] != 'NUM'):\n",
    "        for val in variablesList[rules.columns[j]]:\n",
    "            dict_mask[rules.columns[j]].append({val: variablesList[rules.columns[j]].index(val)})\n",
    "    #dict_mask[rules.columns[j]].append({keys[i]: variablesList[rules.columns[j]].index(keys[i])})"
   ]
  },
  {
   "cell_type": "code",
   "execution_count": 358,
   "metadata": {},
   "outputs": [
    {
     "data": {
      "text/plain": [
       "{'jogou bola': [{'Nenhuma das opções': -1}, {'sim': 0}, {'nao': 1}],\n",
       " 'condicao fisica': [{'Nenhuma das opções': -1},\n",
       "  {'ruim': 0},\n",
       "  {'regular': 1},\n",
       "  {'boa': 2}],\n",
       " 'transporte': [{'Nenhuma das opções': -1}, {'carro': 0}, {'a pe': 1}],\n",
       " 'distancia': [{'Nenhuma das opções': -1}, {'> 5': 1}],\n",
       " 'local de passeio': [{'Nenhuma das opções': -1},\n",
       "  {'cachoeira': 0},\n",
       "  {'shopping': 1}]}"
      ]
     },
     "execution_count": 358,
     "metadata": {},
     "output_type": "execute_result"
    }
   ],
   "source": [
    "dict_mask"
   ]
  },
  {
   "cell_type": "code",
   "execution_count": 359,
   "metadata": {},
   "outputs": [],
   "source": [
    "#Remove as regras duplicadas\n",
    "rules = rules.drop_duplicates()"
   ]
  },
  {
   "cell_type": "code",
   "execution_count": 360,
   "metadata": {},
   "outputs": [
    {
     "data": {
      "text/html": [
       "<div>\n",
       "<style scoped>\n",
       "    .dataframe tbody tr th:only-of-type {\n",
       "        vertical-align: middle;\n",
       "    }\n",
       "\n",
       "    .dataframe tbody tr th {\n",
       "        vertical-align: top;\n",
       "    }\n",
       "\n",
       "    .dataframe thead th {\n",
       "        text-align: right;\n",
       "    }\n",
       "</style>\n",
       "<table border=\"1\" class=\"dataframe\">\n",
       "  <thead>\n",
       "    <tr style=\"text-align: right;\">\n",
       "      <th></th>\n",
       "      <th>jogou bola</th>\n",
       "      <th>condicao fisica</th>\n",
       "      <th>transporte</th>\n",
       "      <th>distancia</th>\n",
       "      <th>local de passeio</th>\n",
       "    </tr>\n",
       "  </thead>\n",
       "  <tbody>\n",
       "    <tr>\n",
       "      <th>0</th>\n",
       "      <td>0</td>\n",
       "      <td>0</td>\n",
       "      <td>-1</td>\n",
       "      <td>-1</td>\n",
       "      <td>-1</td>\n",
       "    </tr>\n",
       "    <tr>\n",
       "      <th>2</th>\n",
       "      <td>-1</td>\n",
       "      <td>0</td>\n",
       "      <td>1</td>\n",
       "      <td>1</td>\n",
       "      <td>-1</td>\n",
       "    </tr>\n",
       "    <tr>\n",
       "      <th>3</th>\n",
       "      <td>-1</td>\n",
       "      <td>0</td>\n",
       "      <td>-1</td>\n",
       "      <td>-1</td>\n",
       "      <td>0</td>\n",
       "    </tr>\n",
       "  </tbody>\n",
       "</table>\n",
       "</div>"
      ],
      "text/plain": [
       "   jogou bola  condicao fisica  transporte  distancia  local de passeio\n",
       "0           0                0          -1         -1                -1\n",
       "2          -1                0           1          1                -1\n",
       "3          -1                0          -1         -1                 0"
      ]
     },
     "execution_count": 360,
     "metadata": {},
     "output_type": "execute_result"
    }
   ],
   "source": [
    "rules"
   ]
  },
  {
   "cell_type": "code",
   "execution_count": 361,
   "metadata": {},
   "outputs": [],
   "source": [
    "target = list(rules[predicao].values)"
   ]
  },
  {
   "cell_type": "code",
   "execution_count": 362,
   "metadata": {},
   "outputs": [
    {
     "data": {
      "text/plain": [
       "[0, 0, 0]"
      ]
     },
     "execution_count": 362,
     "metadata": {},
     "output_type": "execute_result"
    }
   ],
   "source": [
    "target"
   ]
  },
  {
   "cell_type": "code",
   "execution_count": 363,
   "metadata": {},
   "outputs": [],
   "source": [
    "rules = rules.drop([predicao], axis=1)"
   ]
  },
  {
   "cell_type": "code",
   "execution_count": 364,
   "metadata": {},
   "outputs": [
    {
     "data": {
      "text/html": [
       "<div>\n",
       "<style scoped>\n",
       "    .dataframe tbody tr th:only-of-type {\n",
       "        vertical-align: middle;\n",
       "    }\n",
       "\n",
       "    .dataframe tbody tr th {\n",
       "        vertical-align: top;\n",
       "    }\n",
       "\n",
       "    .dataframe thead th {\n",
       "        text-align: right;\n",
       "    }\n",
       "</style>\n",
       "<table border=\"1\" class=\"dataframe\">\n",
       "  <thead>\n",
       "    <tr style=\"text-align: right;\">\n",
       "      <th></th>\n",
       "      <th>jogou bola</th>\n",
       "      <th>transporte</th>\n",
       "      <th>distancia</th>\n",
       "      <th>local de passeio</th>\n",
       "    </tr>\n",
       "  </thead>\n",
       "  <tbody>\n",
       "    <tr>\n",
       "      <th>0</th>\n",
       "      <td>0</td>\n",
       "      <td>-1</td>\n",
       "      <td>-1</td>\n",
       "      <td>-1</td>\n",
       "    </tr>\n",
       "    <tr>\n",
       "      <th>2</th>\n",
       "      <td>-1</td>\n",
       "      <td>1</td>\n",
       "      <td>1</td>\n",
       "      <td>-1</td>\n",
       "    </tr>\n",
       "    <tr>\n",
       "      <th>3</th>\n",
       "      <td>-1</td>\n",
       "      <td>-1</td>\n",
       "      <td>-1</td>\n",
       "      <td>0</td>\n",
       "    </tr>\n",
       "  </tbody>\n",
       "</table>\n",
       "</div>"
      ],
      "text/plain": [
       "   jogou bola  transporte  distancia  local de passeio\n",
       "0           0          -1         -1                -1\n",
       "2          -1           1          1                -1\n",
       "3          -1          -1         -1                 0"
      ]
     },
     "execution_count": 364,
     "metadata": {},
     "output_type": "execute_result"
    }
   ],
   "source": [
    "rules"
   ]
  },
  {
   "cell_type": "code",
   "execution_count": 201,
   "metadata": {},
   "outputs": [],
   "source": [
    "nb = GaussianNB()"
   ]
  },
  {
   "cell_type": "code",
   "execution_count": 202,
   "metadata": {},
   "outputs": [],
   "source": [
    "#monta a logica das regras\n",
    "values = rules.values\n",
    "nb = nb.fit(values, target)"
   ]
  },
  {
   "cell_type": "code",
   "execution_count": 203,
   "metadata": {},
   "outputs": [
    {
     "data": {
      "text/plain": [
       "Index(['jogou bola', 'transporte', 'distancia', 'local de passeio'], dtype='object')"
      ]
     },
     "execution_count": 203,
     "metadata": {},
     "output_type": "execute_result"
    }
   ],
   "source": [
    "rules.keys()"
   ]
  },
  {
   "cell_type": "code",
   "execution_count": 204,
   "metadata": {},
   "outputs": [
    {
     "data": {
      "text/plain": [
       "{'jogou bola': [{'Nenhuma das opções': -1}, {'sim': 0}, {'nao': 1}],\n",
       " 'condicao fisica': [{'Nenhuma das opções': -1},\n",
       "  {'ruim': 0},\n",
       "  {'regular': 1},\n",
       "  {'boa': 2}],\n",
       " 'transporte': [{'Nenhuma das opções': -1}, {'carro': 0}, {'a pe': 1}],\n",
       " 'distancia': [{'Nenhuma das opções': -1}, {'> 5': 1}],\n",
       " 'local de passeio': [{'Nenhuma das opções': -1},\n",
       "  {'cachoeira': 0},\n",
       "  {'shopping': 1}]}"
      ]
     },
     "execution_count": 204,
     "metadata": {},
     "output_type": "execute_result"
    }
   ],
   "source": [
    "dict_mask"
   ]
  },
  {
   "cell_type": "code",
   "execution_count": 220,
   "metadata": {},
   "outputs": [
    {
     "name": "stdout",
     "output_type": "stream",
     "text": [
      "jogou bola\n",
      "-1  -  Nenhuma das opções\n",
      "0  -  sim\n",
      "1  -  nao\n",
      "Opção: -1\n",
      "\n",
      "\n",
      "transporte\n",
      "-1  -  Nenhuma das opções\n",
      "0  -  carro\n",
      "1  -  a pe\n",
      "Opção: -1\n",
      "\n",
      "\n",
      "distancia\n",
      "-1  -  Nenhuma das opções\n",
      "1  -  > 5\n",
      "Opção: -1\n",
      "\n",
      "\n",
      "local de passeio\n",
      "-1  -  Nenhuma das opções\n",
      "0  -  cachoeira\n",
      "1  -  shopping\n",
      "Opção: 0\n",
      "\n",
      "\n",
      "Resultado:  condicao fisica -> ruim\n",
      "Houve algum problema com as regras\n"
     ]
    }
   ],
   "source": [
    "#loop do questionario\n",
    "#answer = [-1 for x in range(len(rules.columns))]\n",
    "\n",
    "rulesValues = values\n",
    "for i in range(len(dict_mask) - 1):\n",
    "    print(rules.columns[i])\n",
    "    for j in range(len(dict_mask[rules.columns[i]])):\n",
    "        print(list(dict_mask[rules.columns[i]][j].values())[0] ,' - ', list(dict_mask[rules.columns[i]][j].keys())[0])\n",
    "    answer = int(input(\"Opção: \"))\n",
    "    print('\\n')\n",
    "    \n",
    "    filterRules = []\n",
    "    for k in range(len(rulesValues)):\n",
    "        if (rulesValues[k][i] == answer): \n",
    "            filterRules.append(rulesValues[k])\n",
    "    rulesValues = filterRules\n",
    "\n",
    "    if len(rulesValues) == 0:\n",
    "        print(\"Não existe um resultado definido pelas regras\")\n",
    "        break\n",
    "    elif len(rulesValues) == 1 and answer != -1:\n",
    "        for x in range(len(values)):\n",
    "            if np.array_equal(values[x],rulesValues[0]):\n",
    "                print(\"Resultado: \", predicao ,  \"->\", list(list(dict_mask[predicao])[target[x] + 1].keys())[0])\n",
    "        break\n",
    "    else:\n",
    "        continue\n",
    "\n",
    "print(\"Houve algum problema com as regras\")\n",
    "#val = tree.predict([answer])\n",
    "\n",
    "#print(list(dict_mask.keys())[-1] , \": \", list(dict_mask[list(dict_mask.keys())[-1]][val[0]].keys())[0])"
   ]
  },
  {
   "cell_type": "code",
   "execution_count": 238,
   "metadata": {},
   "outputs": [],
   "source": [
    "ligacao = '\\033[31m'\n",
    "ifRule = '\\033[32m'\n",
    "then = '\\033[34m'\n",
    "equals = '\\033[33m'\n",
    "variavel = '\\033[0;0m'"
   ]
  },
  {
   "cell_type": "code",
   "execution_count": 276,
   "metadata": {},
   "outputs": [
    {
     "name": "stdout",
     "output_type": "stream",
     "text": [
      "\u001b[32mIF \u001b[0;0m...\n",
      "Criando regra:\n",
      "1 - Adicionar uma variavel\n",
      "2 - Para finalizar (deve conter pelo menos uma variavel)\n",
      "0 - Para sair\n",
      "Digite uma opção: 1\n",
      "0  -  previsao do tempo\n",
      "1  -  chovendo\n",
      "2  -  assistiu programa de meteorologia\n",
      "3  -  praias vazias\n",
      "4  -  local de passeio\n",
      "5  -  distancia\n",
      "6  -  condicao fisica\n",
      "7  -  transporte\n",
      "8  -  jogou bola\n",
      "9  -  amigos ligaram\n",
      "Escolha uma variavel: 1\n",
      "\u001b[32mIF \u001b[0;0mchovendo\u001b[33m = \n",
      "0  -  sim\n",
      "1  -  nao\n",
      "Escolha um estado: 0\n",
      "\u001b[32mIF \u001b[0;0mchovendo\u001b[33m = \u001b[0;0msim\n",
      "\u001b[32mIF \u001b[0;0mchovendo\u001b[33m = \u001b[0;0msim\u001b[0;0m...\n",
      "Criando regra:\n",
      "1 - Adicionar uma variavel\n",
      "2 - Para finalizar (deve conter pelo menos uma variavel)\n",
      "0 - Para sair\n",
      "Digite uma opção: 1\n",
      "Operador logico: \n",
      "0 - AND\n",
      "1 - OR\n",
      "Digite o operador: 0\n",
      "\u001b[32mIF \u001b[0;0mchovendo\u001b[33m = \u001b[0;0msim\u001b[31m AND \u001b[0;0m...\n",
      "0  -  previsao do tempo\n",
      "1  -  chovendo\n",
      "2  -  assistiu programa de meteorologia\n",
      "3  -  praias vazias\n",
      "4  -  local de passeio\n",
      "5  -  distancia\n",
      "6  -  condicao fisica\n",
      "7  -  transporte\n",
      "8  -  jogou bola\n",
      "9  -  amigos ligaram\n",
      "Escolha uma variavel: 7\n",
      "\u001b[32mIF \u001b[0;0mchovendo\u001b[33m = \u001b[0;0msim\u001b[31m AND \u001b[0;0mtransporte\u001b[33m = \n",
      "0  -  carro\n",
      "1  -  a pe\n",
      "Escolha um estado: 0\n",
      "\u001b[32mIF \u001b[0;0mchovendo\u001b[33m = \u001b[0;0msim\u001b[31m AND \u001b[0;0mtransporte\u001b[33m = \u001b[0;0mcarro\n",
      "\u001b[32mIF \u001b[0;0mchovendo\u001b[33m = \u001b[0;0msim\u001b[31m AND \u001b[0;0mtransporte\u001b[33m = \u001b[0;0mcarro\u001b[0;0m...\n",
      "Criando regra:\n",
      "1 - Adicionar uma variavel\n",
      "2 - Para finalizar (deve conter pelo menos uma variavel)\n",
      "0 - Para sair\n",
      "Digite uma opção: 2\n",
      "\u001b[32mIF \u001b[0;0mchovendo\u001b[33m = \u001b[0;0msim\u001b[31m AND \u001b[0;0mtransporte\u001b[33m = \u001b[0;0mcarro\u001b[34m THEN \u001b[0;0m\n",
      "0  -  previsao do tempo\n",
      "1  -  chovendo\n",
      "2  -  assistiu programa de meteorologia\n",
      "3  -  praias vazias\n",
      "4  -  local de passeio\n",
      "5  -  distancia\n",
      "6  -  condicao fisica\n",
      "7  -  transporte\n",
      "8  -  jogou bola\n",
      "9  -  amigos ligaram\n",
      "Escolha uma variavel: 4\n",
      "\u001b[32mIF \u001b[0;0mchovendo\u001b[33m = \u001b[0;0msim\u001b[31m AND \u001b[0;0mtransporte\u001b[33m = \u001b[0;0mcarro\u001b[34m THEN \u001b[0;0mlocal de passeio\u001b[33m = \n",
      "0  -  cachoeira\n",
      "1  -  shopping\n",
      "Escolha um estado: 1\n",
      "\u001b[32mIF \u001b[0;0mchovendo\u001b[33m = \u001b[0;0msim\u001b[31m AND \u001b[0;0mtransporte\u001b[33m = \u001b[0;0mcarro\u001b[34m THEN \u001b[0;0mlocal de passeio\u001b[33m = \u001b[0;0mshopping\n",
      "Nova regra adicionada: \u001b[32mIF \u001b[0;0mchovendo\u001b[33m = \u001b[0;0msim\u001b[31m AND \u001b[0;0mtransporte\u001b[33m = \u001b[0;0mcarro\u001b[34m THEN \u001b[0;0mlocal de passeio\u001b[33m = \u001b[0;0mshopping\n",
      "IF chovendo = sim AND transporte = carro THEN local de passeio = shopping\n"
     ]
    }
   ],
   "source": [
    "rule = 'IF '\n",
    "rulePrint = ifRule + 'IF '\n",
    "opcRule = 0;\n",
    "quantVariaveis = 0\n",
    "while (opcRule == 1 or quantVariaveis == 0):\n",
    "    \n",
    "    print(rulePrint + variavel + \"...\")\n",
    "    print(\"Criando regra:\")\n",
    "    print(\"1 - Adicionar uma variavel\")\n",
    "    print(\"2 - Para finalizar (deve conter pelo menos uma variavel)\")\n",
    "    print(\"0 - Para sair\")\n",
    "    opcRule = int(input(\"Digite uma opção: \"))\n",
    "    \n",
    "    if opcRule == 1: \n",
    "        if quantVariaveis != 0: \n",
    "            print(\"Operador logico: \")\n",
    "            print(\"0 - AND\")\n",
    "            print(\"1 - OR\")\n",
    "            operador = int(input(\"Digite o operador: \"))\n",
    "            if (operador):\n",
    "                rulePrint += ligacao + \" OR \"\n",
    "                rule += \" OR \"\n",
    "            else:\n",
    "                rulePrint += ligacao + \" AND \"\n",
    "                rule += \" AND \"\n",
    "                \n",
    "            print(rulePrint + variavel + '...')\n",
    "            count = 0\n",
    "            for i in variablesList:\n",
    "                print(count , \" - \" ,  i)\n",
    "                count += 1\n",
    "            opcVariavel = int(input(\"Escolha uma variavel: \"))\n",
    "\n",
    "            rulePrint += variavel + list(variablesList.keys())[opcVariavel] + equals + ' = '\n",
    "            rule += list(variablesList.keys())[opcVariavel] + ' = '\n",
    "\n",
    "            print(rulePrint)\n",
    "\n",
    "            count = 0\n",
    "            for i in variablesList[list(variablesList.keys())[opcVariavel]]:\n",
    "                print(count , \" - \" ,  i)\n",
    "                count += 1\n",
    "            opcAtt = int(input(\"Escolha um estado: \"))\n",
    "\n",
    "            rulePrint += variavel + variablesList[list(variablesList.keys())[opcVariavel]][opcAtt]\n",
    "            rule += variablesList[list(variablesList.keys())[opcVariavel]][opcAtt]\n",
    "            print(rulePrint)\n",
    "            quantVariaveis += 1\n",
    "        else:\n",
    "            count = 0\n",
    "            for i in variablesList:\n",
    "                print(count , \" - \" ,  i)\n",
    "                count += 1\n",
    "            opcVariavel = int(input(\"Escolha uma variavel: \"))\n",
    "\n",
    "            rulePrint += variavel + list(variablesList.keys())[opcVariavel] + equals + ' = '\n",
    "            rule += list(variablesList.keys())[opcVariavel] + ' = '\n",
    "\n",
    "            print(rulePrint)\n",
    "\n",
    "            count = 0\n",
    "            for i in variablesList[list(variablesList.keys())[opcVariavel]]:\n",
    "                print(count , \" - \" ,  i)\n",
    "                count += 1\n",
    "            opcAtt = int(input(\"Escolha um estado: \"))\n",
    "\n",
    "            rulePrint += variavel + variablesList[list(variablesList.keys())[opcVariavel]][opcAtt]\n",
    "            rule += variablesList[list(variablesList.keys())[opcVariavel]][opcAtt]\n",
    "            print(rulePrint)\n",
    "            quantVariaveis += 1\n",
    "    elif opcRule == 2:\n",
    "        count = 0\n",
    "        rulePrint +=  then + ' THEN ' + variavel\n",
    "        rule += ' THEN '\n",
    "        print(rulePrint)\n",
    "        for i in variablesList:\n",
    "            print(count , \" - \" ,  i)\n",
    "            count += 1\n",
    "        opcVariavel = int(input(\"Escolha uma variavel: \"))\n",
    "        \n",
    "        rulePrint += list(variablesList.keys())[opcVariavel] + equals + ' = '\n",
    "        rule += list(variablesList.keys())[opcVariavel] + ' = '\n",
    "        \n",
    "        print(rulePrint)\n",
    "        \n",
    "        count = 0\n",
    "        for i in variablesList[list(variablesList.keys())[opcVariavel]]:\n",
    "            print(count , \" - \" ,  i)\n",
    "            count += 1\n",
    "        opcAtt = int(input(\"Escolha um estado: \"))\n",
    "        \n",
    "        rulePrint += variavel + variablesList[list(variablesList.keys())[opcVariavel]][opcAtt]\n",
    "        rule += variablesList[list(variablesList.keys())[opcVariavel]][opcAtt]\n",
    "        print(rulePrint)\n",
    "        \n",
    "        print ('Nova regra adicionada: ' + rulePrint)\n",
    "        print (rule)\n",
    "\n",
    "        rulesList.append(rule)\n",
    "        break\n",
    "    else: \n",
    "        quantVariaveis = 1\n",
    "        break\n",
    "\n"
   ]
  },
  {
   "cell_type": "code",
   "execution_count": 268,
   "metadata": {},
   "outputs": [
    {
     "data": {
      "text/plain": [
       "0"
      ]
     },
     "execution_count": 268,
     "metadata": {},
     "output_type": "execute_result"
    }
   ],
   "source": [
    "variablesList[list(variablesList.keys())[0]]\n",
    "os.system('clear')"
   ]
  },
  {
   "cell_type": "code",
   "execution_count": 277,
   "metadata": {},
   "outputs": [
    {
     "data": {
      "text/plain": [
       "['IF previsao do tempo = chuva THEN chovendo = sim',\n",
       " 'IF assistiu programa de meteorologia = sim AND praias vazias = sim THEN previsao do tempo = chuva',\n",
       " 'IF local de passeio = cachoeira THEN distancia > 5',\n",
       " 'IF chovendo = sim AND distancia > 5 AND condicao fisica = ruim THEN transporte = carro',\n",
       " 'IF chovendo = nao AND distancia < 5 AND condicao fisica = boa THEN transporte = a pe',\n",
       " 'IF jogou bola = sim THEN condicao fisica = ruim',\n",
       " 'IF amigos ligaram = sim THEN jogou bola = sim',\n",
       " 'IF jogou bola = sim OR transporte = a pe AND distancia > 5 OR local de passeio = cachoeira THEN condicao fisica = ruim',\n",
       " 'IF chovendo = sim AND transporte = carro THEN local de passeio = shopping']"
      ]
     },
     "execution_count": 277,
     "metadata": {},
     "output_type": "execute_result"
    }
   ],
   "source": [
    "rulesList"
   ]
  },
  {
   "cell_type": "code",
   "execution_count": 264,
   "metadata": {},
   "outputs": [
    {
     "data": {
      "text/plain": [
       "32512"
      ]
     },
     "execution_count": 264,
     "metadata": {},
     "output_type": "execute_result"
    }
   ],
   "source": [
    "os.system('cls')"
   ]
  },
  {
   "cell_type": "code",
   "execution_count": 291,
   "metadata": {},
   "outputs": [],
   "source": [
    "with open('rules.txt', 'w') as rulesTxt: \n",
    "    json.dump(rulesList, rulesTxt)\n",
    "\n",
    "with open('variables.txt', 'w') as variablesTxt: \n",
    "    json.dump(variablesList, variablesTxt) "
   ]
  },
  {
   "cell_type": "code",
   "execution_count": 288,
   "metadata": {},
   "outputs": [
    {
     "data": {
      "text/plain": [
       "'{\"previsao do tempo\": [\"chuva\", \"sol\", \"nublado\"], \"chovendo\": [\"sim\", \"nao\"], \"assistiu programa de meteorologia\": [\"sim\", \"nao\"], \"praias vazias\": [\"sim\", \"nao\"], \"local de passeio\": [\"cachoeira\", \"shopping\"], \"distancia\": [\"NUM\"], \"condicao fisica\": [\"ruim\", \"regular\", \"boa\"], \"transporte\": [\"carro\", \"a pe\"], \"jogou bola\": [\"sim\", \"nao\"], \"amigos ligaram\": [\"sim\", \"nao\"]}'"
      ]
     },
     "execution_count": 288,
     "metadata": {},
     "output_type": "execute_result"
    }
   ],
   "source": [
    "json.dumps(variablesList)"
   ]
  },
  {
   "cell_type": "code",
   "execution_count": 308,
   "metadata": {},
   "outputs": [
    {
     "name": "stdout",
     "output_type": "stream",
     "text": [
      "Nome da variavel: Fez exercicios\n",
      "Nova variavel :  {'Fez exercicios': []}\n",
      "1 - Criar opção\n",
      "2 - Sair e salvar\n",
      "0 - Sair e descartar\n",
      "Opção: 1\n",
      "Digite a nova opção: Sim\n",
      "Nova variavel :  {'Fez exercicios': ['Sim']}\n",
      "1 - Criar opção\n",
      "2 - Sair e salvar\n",
      "0 - Sair e descartar\n",
      "Opção: 1\n",
      "Digite a nova opção: Nao\n",
      "Nova variavel :  {'Fez exercicios': ['Sim', 'Nao']}\n",
      "1 - Criar opção\n",
      "2 - Sair e salvar\n",
      "0 - Sair e descartar\n",
      "Opção: 2\n",
      "Nova variável adicionada com sucesso!!!\n"
     ]
    },
    {
     "ename": "AttributeError",
     "evalue": "'dict' object has no attribute 'append'",
     "output_type": "error",
     "traceback": [
      "\u001b[0;31m---------------------------------------------------------------------------\u001b[0m",
      "\u001b[0;31mAttributeError\u001b[0m                            Traceback (most recent call last)",
      "\u001b[0;32m<ipython-input-308-05052781194c>\u001b[0m in \u001b[0;36m<module>\u001b[0;34m\u001b[0m\n\u001b[1;32m     17\u001b[0m         \u001b[0;32melif\u001b[0m\u001b[0;34m(\u001b[0m\u001b[0mopcVar\u001b[0m \u001b[0;34m==\u001b[0m \u001b[0;36m2\u001b[0m\u001b[0;34m)\u001b[0m\u001b[0;34m:\u001b[0m\u001b[0;34m\u001b[0m\u001b[0;34m\u001b[0m\u001b[0m\n\u001b[1;32m     18\u001b[0m             \u001b[0mprint\u001b[0m\u001b[0;34m(\u001b[0m\u001b[0;34m\"Nova variável adicionada com sucesso!!!\"\u001b[0m\u001b[0;34m)\u001b[0m\u001b[0;34m\u001b[0m\u001b[0;34m\u001b[0m\u001b[0m\n\u001b[0;32m---> 19\u001b[0;31m             \u001b[0mvariablesList\u001b[0m\u001b[0;34m.\u001b[0m\u001b[0mappend\u001b[0m\u001b[0;34m(\u001b[0m\u001b[0mnewVariavel\u001b[0m\u001b[0;34m)\u001b[0m\u001b[0;34m\u001b[0m\u001b[0;34m\u001b[0m\u001b[0m\n\u001b[0m\u001b[1;32m     20\u001b[0m         \u001b[0;32melse\u001b[0m\u001b[0;34m:\u001b[0m\u001b[0;34m\u001b[0m\u001b[0;34m\u001b[0m\u001b[0m\n\u001b[1;32m     21\u001b[0m             \u001b[0;32mbreak\u001b[0m\u001b[0;34m\u001b[0m\u001b[0;34m\u001b[0m\u001b[0m\n",
      "\u001b[0;31mAttributeError\u001b[0m: 'dict' object has no attribute 'append'"
     ]
    }
   ],
   "source": [
    "newVariavel = {}\n",
    "nomeVariavel = input(\"Nome da variavel: \")\n",
    "if (len(nomeVariavel) != 0):\n",
    "    newVariavel[nomeVariavel] = []\n",
    "    qtdOpc = 0;\n",
    "    while(len(newVariavel) == 0 or qtdOpc == 0):\n",
    "        print(\"Nova variavel : \" , newVariavel)\n",
    "        print(\"1 - Criar opção\")\n",
    "        print(\"2 - Sair e salvar\")\n",
    "        print(\"0 - Sair e descartar\")\n",
    "        opcVar = int(input(\"Opção: \"))\n",
    "            \n",
    "        if (opcVar == 1):\n",
    "            newOpc = input(\"Digite a nova opção: \")\n",
    "            if (len(newOpc) != 0):\n",
    "                newVariavel[nomeVariavel].append(newOpc)\n",
    "        elif(opcVar == 2): \n",
    "            print(\"Nova variável adicionada com sucesso!!!\")\n",
    "            variablesList[nomeVariavel] = newVariavel[nomeVariavel]\n",
    "        else:\n",
    "            break\n",
    "else: \n",
    "    print(\"Nome da variavel invalido!!!\")\n",
    "        "
   ]
  },
  {
   "cell_type": "code",
   "execution_count": 312,
   "metadata": {},
   "outputs": [],
   "source": [
    "variablesList[nomeVariavel] = newVariavel[nomeVariavel]"
   ]
  },
  {
   "cell_type": "code",
   "execution_count": 313,
   "metadata": {},
   "outputs": [
    {
     "data": {
      "text/plain": [
       "{'previsao do tempo': ['chuva', 'sol', 'nublado'],\n",
       " 'chovendo': ['sim', 'nao'],\n",
       " 'assistiu programa de meteorologia': ['sim', 'nao'],\n",
       " 'praias vazias': ['sim', 'nao'],\n",
       " 'local de passeio': ['cachoeira', 'shopping'],\n",
       " 'distancia': ['NUM'],\n",
       " 'condicao fisica': ['ruim', 'regular', 'boa'],\n",
       " 'transporte': ['carro', 'a pe'],\n",
       " 'jogou bola': ['sim', 'nao'],\n",
       " 'amigos ligaram': ['sim', 'nao'],\n",
       " 'Fez exercicios': ['Sim', 'Nao']}"
      ]
     },
     "execution_count": 313,
     "metadata": {},
     "output_type": "execute_result"
    }
   ],
   "source": [
    "variablesList"
   ]
  },
  {
   "cell_type": "code",
   "execution_count": 314,
   "metadata": {},
   "outputs": [],
   "source": [
    "from sklearn.naive_bayes import GaussianNB"
   ]
  },
  {
   "cell_type": "code",
   "execution_count": 315,
   "metadata": {},
   "outputs": [],
   "source": [
    "nb = GaussianNB()"
   ]
  },
  {
   "cell_type": "code",
   "execution_count": 365,
   "metadata": {},
   "outputs": [],
   "source": [
    "nb = nb.fit(values, target)"
   ]
  },
  {
   "cell_type": "code",
   "execution_count": 366,
   "metadata": {},
   "outputs": [
    {
     "data": {
      "text/plain": [
       "array([[1.]])"
      ]
     },
     "execution_count": 366,
     "metadata": {},
     "output_type": "execute_result"
    }
   ],
   "source": [
    "nb.predict_proba([[0,-1,0,-1]])"
   ]
  },
  {
   "cell_type": "code",
   "execution_count": 367,
   "metadata": {},
   "outputs": [
    {
     "data": {
      "text/plain": [
       "array([0])"
      ]
     },
     "execution_count": 367,
     "metadata": {},
     "output_type": "execute_result"
    }
   ],
   "source": [
    "nb.predict([[0,-1,0,-1]])"
   ]
  }
 ],
 "metadata": {
  "kernelspec": {
   "display_name": "Python 3",
   "language": "python",
   "name": "python3"
  },
  "language_info": {
   "codemirror_mode": {
    "name": "ipython",
    "version": 3
   },
   "file_extension": ".py",
   "mimetype": "text/x-python",
   "name": "python",
   "nbconvert_exporter": "python",
   "pygments_lexer": "ipython3",
   "version": "3.7.6"
  }
 },
 "nbformat": 4,
 "nbformat_minor": 4
}
